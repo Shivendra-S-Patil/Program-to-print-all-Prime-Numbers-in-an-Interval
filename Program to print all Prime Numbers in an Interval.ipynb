{
 "cells": [
  {
   "cell_type": "code",
   "execution_count": 7,
   "id": "a9009f65",
   "metadata": {},
   "outputs": [
    {
     "name": "stdout",
     "output_type": "stream",
     "text": [
      "Enter the Lower limit : 2\n",
      "Enter the Upper limit : 100\n",
      "2\n",
      "3\n",
      "5\n",
      "7\n",
      "11\n",
      "13\n",
      "17\n",
      "19\n",
      "23\n",
      "29\n",
      "31\n",
      "37\n",
      "41\n",
      "43\n",
      "47\n",
      "53\n",
      "59\n",
      "61\n",
      "67\n",
      "71\n",
      "73\n",
      "79\n",
      "83\n",
      "89\n",
      "97\n"
     ]
    }
   ],
   "source": [
    "lower = int(input(\"Enter the Lower limit : \")) # Variable named 'lower' is used user user to enter an integer value for the lower limit \n",
    "upper = int(input(\"Enter the Upper limit : \")) # Variable named 'upper' is used user user to enter an integer value for the upper limit \n",
    "\n",
    "for num in range (lower, upper + 1): #This line starts a loop using a for loop. It iterates over a range of numbers starting from lower and ending at upper + 1. The range() function generates a sequence of numbers from lower to upper \n",
    "    if num > 1: #This line checks if the current number num being iterated is greater than 1.\n",
    "        for i in range (2,num): #Inside the loop, another for loop is used to iterate over a range of numbers from 2 to num - 1. We start from 2 because all numbers are divisible by 1.\n",
    "            if num%i == 0: #This line checks if the current number num is divisible evenly by the current divisor i. The % operator calculates the remainder of the division, so num % i will be 0 if i is a divisor of num.\n",
    "                break #If num is found to be divisible by i, the break statement is executed, which exits the inner for loop early.\n",
    "                \n",
    "        else: #This line is part of the inner for loop and is executed if the loop completes without encountering a break statement.\n",
    "            print (num) #Inside the else block, this line prints the current number num."
   ]
  },
  {
   "cell_type": "code",
   "execution_count": null,
   "id": "f2a15268",
   "metadata": {},
   "outputs": [],
   "source": []
  }
 ],
 "metadata": {
  "kernelspec": {
   "display_name": "Python 3 (ipykernel)",
   "language": "python",
   "name": "python3"
  },
  "language_info": {
   "codemirror_mode": {
    "name": "ipython",
    "version": 3
   },
   "file_extension": ".py",
   "mimetype": "text/x-python",
   "name": "python",
   "nbconvert_exporter": "python",
   "pygments_lexer": "ipython3",
   "version": "3.9.13"
  }
 },
 "nbformat": 4,
 "nbformat_minor": 5
}
